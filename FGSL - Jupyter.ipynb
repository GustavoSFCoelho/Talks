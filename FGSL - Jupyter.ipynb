{
 "cells": [
  {
   "cell_type": "markdown",
   "metadata": {
    "slideshow": {
     "slide_type": "slide"
    }
   },
   "source": [
    "# <center> Pousando em jupyter para fazer Ciência dos Dados</center>\n",
    " <center><a><img src=\"matt-damon-the-martian.jpg\" align=\"center\" height=\"500\" width=\"500\" ></a> </center>"
   ]
  },
  {
   "cell_type": "markdown",
   "metadata": {
    "collapsed": true,
    "slideshow": {
     "slide_type": "slide"
    }
   },
   "source": [
    "## <center> Quem sou eu </center>"
   ]
  },
  {
   "cell_type": "markdown",
   "metadata": {
    "collapsed": true
   },
   "source": [
    "### Que é Gustavo?\n",
    "- Consultor de Gestão Pública no Instituto Publix\n",
    "- 2 Python Brasil\n",
    "- Calango Hacker Clube\n",
    "- PyData Brasília\n",
    "- Podcast Pizza de Dados"
   ]
  },
  {
   "cell_type": "markdown",
   "metadata": {
    "slideshow": {
     "slide_type": "slide"
    }
   },
   "source": [
    "# <center> Pousando em Jupyter <center>\n",
    "<center><a><img src=\"giphy.gif\" align=\"center\" height=\"800\" width=\"800\" ></a> </center>\n"
   ]
  },
  {
   "cell_type": "markdown",
   "metadata": {
    "collapsed": true,
    "slideshow": {
     "slide_type": "slide"
    }
   },
   "source": [
    "<center><a><img src=\"don__t_panic_and_carry_a_towel_by_ashique47-d3fu8qd.jpg\" align=\"center\" height=\"800\" width=\"800\" ></a> </center>"
   ]
  },
  {
   "cell_type": "markdown",
   "metadata": {
    "slideshow": {
     "slide_type": "slide"
    }
   },
   "source": [
    "### Onde você está\n",
    "- **Ju** *pyt* e **R**\n",
    "- Suporte para 40 linguagens"
   ]
  },
  {
   "cell_type": "code",
   "execution_count": 3,
   "metadata": {
    "collapsed": true
   },
   "outputs": [],
   "source": [
    "# Roda célula por célula"
   ]
  },
  {
   "cell_type": "markdown",
   "metadata": {
    "collapsed": true
   },
   "source": [
    "- Ótimo para DS\n",
    " - Estatística exploratória\n",
    " - Relatórios (Serenata)"
   ]
  },
  {
   "cell_type": "markdown",
   "metadata": {
    "collapsed": true,
    "slideshow": {
     "slide_type": "slide"
    }
   },
   "source": [
    "<center><a><img src=\"super_sciencegif.gif\" align=\"center\" height=\"800\" width=\"800\" ></a></center>"
   ]
  },
  {
   "cell_type": "markdown",
   "metadata": {
    "collapsed": true,
    "slideshow": {
     "slide_type": "slide"
    }
   },
   "source": [
    "### Ciência dos Dados\n",
    "- Gerar resultado a partir de dados\n",
    "- Estatística\n",
    "- Algoritmos (Machine Learning)\n",
    "- Mineração de dados (ou engenharia de dados)\n",
    "- DataViz\n",
    "- Story Telling\n",
    "- Imposter Syndrome"
   ]
  },
  {
   "cell_type": "markdown",
   "metadata": {
    "collapsed": true,
    "slideshow": {
     "slide_type": "slide"
    }
   },
   "source": [
    "<center><a><img src=\"story.jpg\" align=\"center\" height=\"900\" width=\"900\" ></a></center>"
   ]
  },
  {
   "cell_type": "markdown",
   "metadata": {
    "collapsed": true,
    "slideshow": {
     "slide_type": "slide"
    }
   },
   "source": [
    "# <center> Recursos </center>\n",
    "<center><a><img src=\"matt-damon-mars-potates.gif\" align=\"center\" height=\"700\" width=\"700\" ></a> </center>"
   ]
  },
  {
   "cell_type": "code",
   "execution_count": 14,
   "metadata": {
    "collapsed": true,
    "slideshow": {
     "slide_type": "skip"
    }
   },
   "outputs": [],
   "source": [
    "recursos = {'livros': ['packtpub.com', 'O\\'Reilley' ],\n",
    "            'Cursos' : ['Data Camp', 'Coursera', 'Udacity', 'Udemy'],\n",
    "            'Podcasts' : ['Becoming a Data Scientist', 'Data Stories', 'Pizza de Dados']}"
   ]
  },
  {
   "cell_type": "code",
   "execution_count": 15,
   "metadata": {
    "slideshow": {
     "slide_type": "skip"
    }
   },
   "outputs": [
    {
     "name": "stdout",
     "output_type": "stream",
     "text": [
      "packtpub.com\n",
      "O'Reilley\n"
     ]
    }
   ],
   "source": [
    "for i in recursos['livros']:\n",
    "    print(i)"
   ]
  },
  {
   "cell_type": "code",
   "execution_count": 16,
   "metadata": {
    "slideshow": {
     "slide_type": "skip"
    }
   },
   "outputs": [
    {
     "data": {
      "text/plain": [
       "['Data Camp', 'Coursera', 'Udacity', 'Udemy']"
      ]
     },
     "execution_count": 16,
     "metadata": {},
     "output_type": "execute_result"
    }
   ],
   "source": [
    "recursos['Cursos']"
   ]
  },
  {
   "cell_type": "code",
   "execution_count": 17,
   "metadata": {
    "slideshow": {
     "slide_type": "skip"
    }
   },
   "outputs": [
    {
     "name": "stdout",
     "output_type": "stream",
     "text": [
      "['Becoming a Data Scientist', 'Data Stories', 'Pizza de Dados']\n"
     ]
    }
   ],
   "source": [
    "print(recursos['Podcasts'])"
   ]
  },
  {
   "cell_type": "markdown",
   "metadata": {
    "slideshow": {
     "slide_type": "slide"
    }
   },
   "source": [
    "- Livros:\n",
    " - Packt Pub\n",
    " - O'Reilley\n",
    "- Cursos:\n",
    " - Data Camp\n",
    " - Udacity\n",
    " - Udemy\n",
    "- Podcasts:\n",
    " - Becoming a Data Scientist\n",
    " - Data Stories\n",
    " - Pizza de Dados\n"
   ]
  },
  {
   "cell_type": "markdown",
   "metadata": {
    "slideshow": {
     "slide_type": "slide"
    }
   },
   "source": [
    "-Comunidade\n",
    " - Eventos\n",
    " - Meetups\n",
    "\n",
    "## Repositório https://github.com/leportella/datascience-pizza"
   ]
  },
  {
   "cell_type": "markdown",
   "metadata": {
    "collapsed": true,
    "slideshow": {
     "slide_type": "slide"
    }
   },
   "source": [
    "# <center> Pegue um projeto </center>\n",
    "<center><a><img src=\"planting.gif\" align=\"center\" height=\"900\" width=\"900\" ></a> </center>"
   ]
  },
  {
   "cell_type": "markdown",
   "metadata": {
    "slideshow": {
     "slide_type": "slide"
    }
   },
   "source": [
    "# <center> Qual? Onde? Como? </center>\n",
    "<center><a><img src=\"land.gif\" align=\"center\" height=\"500\" width=\"500\" ></a> </center>\n"
   ]
  },
  {
   "cell_type": "markdown",
   "metadata": {
    "slideshow": {
     "slide_type": "slide"
    }
   },
   "source": [
    "# <center> Kaggle Datasets </center>\n",
    "<center><a><img src=\"uhul.gif\" align=\"center\" height=\"700\" width=\"700\" ></a> </center>"
   ]
  },
  {
   "cell_type": "markdown",
   "metadata": {
    "slideshow": {
     "slide_type": "slide"
    }
   },
   "source": [
    "# <center> 1° Passo </center>\n",
    "<center><a><img src=\"Iexcel.png\" align=\"center\" height=\"500\" width=\"500\" ></a></center>"
   ]
  },
  {
   "cell_type": "code",
   "execution_count": 18,
   "metadata": {
    "collapsed": true,
    "slideshow": {
     "slide_type": "slide"
    }
   },
   "outputs": [],
   "source": [
    "import pandas as pd\n",
    "stn = pd.read_csv(r'finbra_MUN_DespesasporFuncao(AnexoI-E).csv', encoding = 'latin', sep = ';', header = 3)"
   ]
  },
  {
   "cell_type": "code",
   "execution_count": 19,
   "metadata": {},
   "outputs": [
    {
     "data": {
      "text/html": [
       "<div>\n",
       "<style>\n",
       "    .dataframe thead tr:only-child th {\n",
       "        text-align: right;\n",
       "    }\n",
       "\n",
       "    .dataframe thead th {\n",
       "        text-align: left;\n",
       "    }\n",
       "\n",
       "    .dataframe tbody tr th {\n",
       "        vertical-align: top;\n",
       "    }\n",
       "</style>\n",
       "<table border=\"1\" class=\"dataframe\">\n",
       "  <thead>\n",
       "    <tr style=\"text-align: right;\">\n",
       "      <th></th>\n",
       "      <th>Instituição</th>\n",
       "      <th>Cod.IBGE</th>\n",
       "      <th>UF</th>\n",
       "      <th>População</th>\n",
       "      <th>Coluna</th>\n",
       "      <th>Conta</th>\n",
       "      <th>Valor</th>\n",
       "    </tr>\n",
       "  </thead>\n",
       "  <tbody>\n",
       "    <tr>\n",
       "      <th>0</th>\n",
       "      <td>Prefeitura Municipal de Chiapetta - RS</td>\n",
       "      <td>4305405</td>\n",
       "      <td>RS</td>\n",
       "      <td>4061</td>\n",
       "      <td>Despesas Empenhadas</td>\n",
       "      <td>Despesas (Exceto Intraorçamentárias)</td>\n",
       "      <td>15743045,91</td>\n",
       "    </tr>\n",
       "    <tr>\n",
       "      <th>1</th>\n",
       "      <td>Prefeitura Municipal de Chiapetta - RS</td>\n",
       "      <td>4305405</td>\n",
       "      <td>RS</td>\n",
       "      <td>4061</td>\n",
       "      <td>Despesas Empenhadas</td>\n",
       "      <td>01 - Legislativa</td>\n",
       "      <td>442406,08</td>\n",
       "    </tr>\n",
       "    <tr>\n",
       "      <th>2</th>\n",
       "      <td>Prefeitura Municipal de Chiapetta - RS</td>\n",
       "      <td>4305405</td>\n",
       "      <td>RS</td>\n",
       "      <td>4061</td>\n",
       "      <td>Despesas Empenhadas</td>\n",
       "      <td>01.031 - Ação Legislativa</td>\n",
       "      <td>442406,08</td>\n",
       "    </tr>\n",
       "    <tr>\n",
       "      <th>3</th>\n",
       "      <td>Prefeitura Municipal de Chiapetta - RS</td>\n",
       "      <td>4305405</td>\n",
       "      <td>RS</td>\n",
       "      <td>4061</td>\n",
       "      <td>Despesas Empenhadas</td>\n",
       "      <td>02 - Judiciária</td>\n",
       "      <td>496720,66</td>\n",
       "    </tr>\n",
       "    <tr>\n",
       "      <th>4</th>\n",
       "      <td>Prefeitura Municipal de Chiapetta - RS</td>\n",
       "      <td>4305405</td>\n",
       "      <td>RS</td>\n",
       "      <td>4061</td>\n",
       "      <td>Despesas Empenhadas</td>\n",
       "      <td>02.061 - Ação Judiciária</td>\n",
       "      <td>496720,66</td>\n",
       "    </tr>\n",
       "  </tbody>\n",
       "</table>\n",
       "</div>"
      ],
      "text/plain": [
       "                              Instituição  Cod.IBGE  UF  População  \\\n",
       "0  Prefeitura Municipal de Chiapetta - RS   4305405  RS       4061   \n",
       "1  Prefeitura Municipal de Chiapetta - RS   4305405  RS       4061   \n",
       "2  Prefeitura Municipal de Chiapetta - RS   4305405  RS       4061   \n",
       "3  Prefeitura Municipal de Chiapetta - RS   4305405  RS       4061   \n",
       "4  Prefeitura Municipal de Chiapetta - RS   4305405  RS       4061   \n",
       "\n",
       "                Coluna                                 Conta        Valor  \n",
       "0  Despesas Empenhadas  Despesas (Exceto Intraorçamentárias)  15743045,91  \n",
       "1  Despesas Empenhadas                      01 - Legislativa    442406,08  \n",
       "2  Despesas Empenhadas             01.031 - Ação Legislativa    442406,08  \n",
       "3  Despesas Empenhadas                       02 - Judiciária    496720,66  \n",
       "4  Despesas Empenhadas              02.061 - Ação Judiciária    496720,66  "
      ]
     },
     "execution_count": 19,
     "metadata": {},
     "output_type": "execute_result"
    }
   ],
   "source": [
    "stn.head()"
   ]
  },
  {
   "cell_type": "markdown",
   "metadata": {},
   "source": [
    "<center><a><img src=\"panda.gif\" align=\"center\" height=\"600\" width=\"600\" ></a> </center>"
   ]
  },
  {
   "cell_type": "code",
   "execution_count": 22,
   "metadata": {
    "collapsed": true,
    "slideshow": {
     "slide_type": "skip"
    }
   },
   "outputs": [],
   "source": [
    "saude_total = '10 - Saúde'\n",
    "educacao_total = '12 - Educação'\n",
    "saude_e_educacao = (((stn['Conta'] == saude_total) | (stn['Conta'] == educacao_total)) & (stn['Coluna'] == 'Despesas Pagas'))"
   ]
  },
  {
   "cell_type": "code",
   "execution_count": 23,
   "metadata": {
    "collapsed": true,
    "slideshow": {
     "slide_type": "skip"
    }
   },
   "outputs": [],
   "source": [
    "gastos = stn[saude_e_educacao].copy()\n",
    "gastos.loc[:,'Valor'] = gastos.loc[:,'Valor'].str.replace(',', '.').astype(float)"
   ]
  },
  {
   "cell_type": "code",
   "execution_count": 24,
   "metadata": {
    "slideshow": {
     "slide_type": "skip"
    }
   },
   "outputs": [
    {
     "name": "stdout",
     "output_type": "stream",
     "text": [
      "Quantidade de municípios na base do STN com informações sobre Saúde ou Educação:  5138\n"
     ]
    }
   ],
   "source": [
    "n_mun_stn = len(gastos['Cod.IBGE'].unique())\n",
    "print('Quantidade de municípios na base do STN com informações sobre Saúde ou Educação: ', n_mun_stn)"
   ]
  },
  {
   "cell_type": "markdown",
   "metadata": {
    "slideshow": {
     "slide_type": "slide"
    }
   },
   "source": [
    "# <center> 2° Não reinventar a roda </center>\n",
    "## <center>Aprender tudo que está implementado primeiro</center>"
   ]
  },
  {
   "cell_type": "code",
   "execution_count": 25,
   "metadata": {
    "collapsed": true,
    "slideshow": {
     "slide_type": "slide"
    }
   },
   "outputs": [],
   "source": [
    "pivot = gastos.pivot_table(index='Cod.IBGE', columns = 'Conta', values='Valor')"
   ]
  },
  {
   "cell_type": "code",
   "execution_count": 26,
   "metadata": {},
   "outputs": [
    {
     "data": {
      "text/html": [
       "<div>\n",
       "<style>\n",
       "    .dataframe thead tr:only-child th {\n",
       "        text-align: right;\n",
       "    }\n",
       "\n",
       "    .dataframe thead th {\n",
       "        text-align: left;\n",
       "    }\n",
       "\n",
       "    .dataframe tbody tr th {\n",
       "        vertical-align: top;\n",
       "    }\n",
       "</style>\n",
       "<table border=\"1\" class=\"dataframe\">\n",
       "  <thead>\n",
       "    <tr style=\"text-align: right;\">\n",
       "      <th>Conta</th>\n",
       "      <th>10 - Saúde</th>\n",
       "      <th>12 - Educação</th>\n",
       "    </tr>\n",
       "    <tr>\n",
       "      <th>Cod.IBGE</th>\n",
       "      <th></th>\n",
       "      <th></th>\n",
       "    </tr>\n",
       "  </thead>\n",
       "  <tbody>\n",
       "    <tr>\n",
       "      <th>1100015</th>\n",
       "      <td>13984336.50</td>\n",
       "      <td>17467438.24</td>\n",
       "    </tr>\n",
       "    <tr>\n",
       "      <th>1100023</th>\n",
       "      <td>52306623.74</td>\n",
       "      <td>63569829.54</td>\n",
       "    </tr>\n",
       "    <tr>\n",
       "      <th>1100031</th>\n",
       "      <td>4778787.57</td>\n",
       "      <td>5095621.49</td>\n",
       "    </tr>\n",
       "    <tr>\n",
       "      <th>1100049</th>\n",
       "      <td>40845270.51</td>\n",
       "      <td>42278181.90</td>\n",
       "    </tr>\n",
       "    <tr>\n",
       "      <th>1100056</th>\n",
       "      <td>10671272.35</td>\n",
       "      <td>10108157.01</td>\n",
       "    </tr>\n",
       "  </tbody>\n",
       "</table>\n",
       "</div>"
      ],
      "text/plain": [
       "Conta      10 - Saúde  12 - Educação\n",
       "Cod.IBGE                            \n",
       "1100015   13984336.50    17467438.24\n",
       "1100023   52306623.74    63569829.54\n",
       "1100031    4778787.57     5095621.49\n",
       "1100049   40845270.51    42278181.90\n",
       "1100056   10671272.35    10108157.01"
      ]
     },
     "execution_count": 26,
     "metadata": {},
     "output_type": "execute_result"
    }
   ],
   "source": [
    "pivot.head()"
   ]
  },
  {
   "cell_type": "markdown",
   "metadata": {},
   "source": [
    "<center> ![image.png](Sponsored_website_homepage-1.png)</center>"
   ]
  },
  {
   "cell_type": "markdown",
   "metadata": {
    "slideshow": {
     "slide_type": "slide"
    }
   },
   "source": [
    "<center> ![image.png](math.gif)</center>"
   ]
  },
  {
   "cell_type": "markdown",
   "metadata": {
    "slideshow": {
     "slide_type": "slide"
    }
   },
   "source": [
    "#  <center> É muita coisa!</center>\n",
    "<center><a><img src=\"total.gif\" align=\"center\" height=\"700\" width=\"700\" ></a> </center>"
   ]
  },
  {
   "cell_type": "markdown",
   "metadata": {
    "slideshow": {
     "slide_type": "slide"
    }
   },
   "source": [
    "<center><a><img src=\"imposter.jpg\" align=\"center\" height=\"1000\" width=\"1000\" ></a></center>"
   ]
  },
  {
   "cell_type": "markdown",
   "metadata": {
    "slideshow": {
     "slide_type": "slide"
    }
   },
   "source": [
    "# <center>Vá no seu ritmo</center>\n",
    "## <center>É melhor caminhar um pouco todo dia/semana </center>\n",
    "<center><a><img src=\"relax.gif\" align=\"center\" height=\"600\" width=\"600\" ></a></center>\n",
    "\n",
    "\n",
    "### <center>Do que travar e não caminhar nada </center>"
   ]
  },
  {
   "cell_type": "markdown",
   "metadata": {
    "slideshow": {
     "slide_type": "slide"
    }
   },
   "source": [
    "## <center> 3° Passo</center>\n",
    "# <center> Compartilhe!</center>\n",
    "\n",
    "- Monte um Portfólio:\n",
    " - Comece um Blog\n",
    " - Git Hub\n",
    " - Kaggle (Competições e Kernels)"
   ]
  },
  {
   "cell_type": "markdown",
   "metadata": {
    "slideshow": {
     "slide_type": "slide"
    }
   },
   "source": [
    "# <center> 4° Repita </center>\n",
    " - Agora vou aprender algoritmo **X** (PCA, SVM, Cluster)\n",
    " - Data mining\n",
    " - Deep Learning\n",
    " \n",
    "<center><a><img src=\"repeat.gif\" align=\"center\" height=\"300\" width=\"300\" ></a></center>"
   ]
  },
  {
   "cell_type": "markdown",
   "metadata": {
    "slideshow": {
     "slide_type": "slide"
    }
   },
   "source": [
    "<center><a><img src=\"john.gif\" align=\"center\" height=\"700\" width=\"700\" ></a></center>"
   ]
  },
  {
   "cell_type": "markdown",
   "metadata": {
    "slideshow": {
     "slide_type": "slide"
    }
   },
   "source": [
    "# <center>Aproveite a comunidade!</center>\n",
    "<center> ![image.png](logo_grupy.png)</center>"
   ]
  },
  {
   "cell_type": "markdown",
   "metadata": {
    "slideshow": {
     "slide_type": "slide"
    }
   },
   "source": [
    "<center><a><img src=\"pybr.svg\" align=\"center\" height=\"600\" width=\"600\" ></a></center>\n"
   ]
  },
  {
   "cell_type": "markdown",
   "metadata": {
    "slideshow": {
     "slide_type": "slide"
    }
   },
   "source": [
    "<center><a><img src=\"logo.png\" align=\"center\" height=\"300\" width=\"300\" ></a></center>"
   ]
  },
  {
   "cell_type": "markdown",
   "metadata": {
    "slideshow": {
     "slide_type": "slide"
    }
   },
   "source": [
    "<center><a><img src=\"logo-python-cerrado-2018-v1.svg\" align=\"center\" height=\"800\" width=\"800\" ></a></center>"
   ]
  },
  {
   "cell_type": "markdown",
   "metadata": {
    "slideshow": {
     "slide_type": "-"
    }
   },
   "source": [
    "###  <center> Twitter: [@pythoncerrado](https://twitter.com/pythoncerrado) </center>\n",
    "###  <center> Face: https://www.facebook.com/pythoncerrado </center>"
   ]
  },
  {
   "cell_type": "markdown",
   "metadata": {
    "slideshow": {
     "slide_type": "slide"
    }
   },
   "source": [
    "# <cemter> Telegram <center>\n",
    "- [@pythonbr](https://t.me/pythonbr)\n",
    "- [@datasciencepython](https://t.me/datasciencepython)\n",
    "- [@rbrasil](https://t.me/rbrasil)\n",
    "- [@dadosabertos](https://t.me/dadosabertos)\n",
    "- [grupygo](https://t.me/grupygo)\n",
    "- [@grupydf](https://t.me/grupydf)\n",
    "- @packtfreebot"
   ]
  },
  {
   "cell_type": "markdown",
   "metadata": {
    "slideshow": {
     "slide_type": "slide"
    }
   },
   "source": [
    "# Pizza de dados\n",
    "## <center> http://podcast.datascience.pizza/ </center>\n",
    "\n",
    "## <center> Twitter: [@pizzadedados](https://twitter.com/pizzadedados)</center>\n",
    "<a>\n",
    "<left><img src=\"jess.jpg\" align=\"left\" height=\"200\" width=\"200\" ></left>\n",
    "<right><img src=\"le.jpg\" align=\"right\" height=\"200\" width=\"200\"></right>\n",
    "<center><img src=\"pizza.jpg\" align=\"center\" height=\"200\" width=\"200\"></center>\n",
    "</a>\n",
    "\n"
   ]
  },
  {
   "cell_type": "markdown",
   "metadata": {
    "collapsed": true,
    "slideshow": {
     "slide_type": "slide"
    }
   },
   "source": [
    "# <center> https://www.meetup.com/PyData-Brasilia/</center>\n",
    "## <center> 23 de novembro (quinta) 19h</center>\n",
    "\n",
    "<center><a><img src=\"pydatabsb.jpeg\" align=\"center\" height=\"300\" width=\"300\" ></a></center>\n"
   ]
  },
  {
   "cell_type": "markdown",
   "metadata": {
    "slideshow": {
     "slide_type": "slide"
    }
   },
   "source": [
    "# <center> Contato </center>\n",
    "## Twitter/Telegram: [@gusrabbit](https://twitter.com/gusrabbit)\n",
    "## GitHub: [GustavoSFCoelho](https://github.com/GustavoSFCoelho)\n",
    "<a>\n",
    "<left><img src=\"rei.jpg\" align=\"left\" height=\"400\" width=\"300\" ></left>\n",
    "<right><img src=\"peter.jpg\" align=\"right\" height=\"300\" width=\"200\"></right>\n",
    "<center><img src=\"eu.jpg\" align=\"center\" height=\"300\" width=\"200\" ></center> \n",
    "</a>"
   ]
  },
  {
   "cell_type": "markdown",
   "metadata": {
    "slideshow": {
     "slide_type": "slide"
    }
   },
   "source": [
    "# Fontes e inspirações\n",
    "https://www.datacamp.com/community/blog/5-pieces-advice-datacamp-subscribers#gs.WZi7MPw\n",
    "\n",
    "https://github.com/dformoso/machine-learning-mindmap\n",
    "\n",
    "https://github.com/hangtwenty/dive-into-machine-learning\n",
    "\n",
    "https://github.com/leportella/datascience-pizza\n",
    "\n",
    "www.kaggle.com\n",
    "\n",
    "https://www.kaggle.com/gerosa/procon\n",
    "\n",
    "http://tylervigen.com/spurious-correlations\n",
    "\n",
    "https://medium.springboard.com/how-i-used-professional-poker-to-become-a-data-scientist-e49b75dfe8e3\n",
    "\n",
    "http://aviz.fr/~bbach/datacomics/\n",
    "\n",
    "https://python-graph-gallery.com/\n",
    "\n",
    "http://jupyter.org/\n",
    "\n",
    "https://anaconda.org/\n",
    "\n",
    "https://www.tensorflow.org/\n",
    "\n",
    "https://blogs.sas.com/content/subconsciousmusings/2017/04/12/machine-learning-algorithm-use/\n",
    "\n",
    "http://scikit-learn.org/stable/tutorial/machine_learning_map/\n",
    "\n",
    "https://www.youtube.com/watch?v=-cJ1_KsKc-g\n",
    "\n",
    "https://twitter.com/rundavidrun/status/587671657193455616\n",
    "\n",
    "http://varianceexplained.org/r/start-blog/"
   ]
  }
 ],
 "metadata": {
  "celltoolbar": "Slideshow",
  "kernelspec": {
   "display_name": "Python [default]",
   "language": "python",
   "name": "python3"
  },
  "language_info": {
   "codemirror_mode": {
    "name": "ipython",
    "version": 3
   },
   "file_extension": ".py",
   "mimetype": "text/x-python",
   "name": "python",
   "nbconvert_exporter": "python",
   "pygments_lexer": "ipython3",
   "version": "3.6.3"
  }
 },
 "nbformat": 4,
 "nbformat_minor": 2
}
